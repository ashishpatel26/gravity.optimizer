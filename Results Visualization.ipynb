{
 "cells": [
  {
   "cell_type": "code",
   "execution_count": null,
   "metadata": {},
   "outputs": [],
   "source": [
    "from pathlib import Path\n",
    "from zipfile import ZipFile\n",
    "import pandas as pd\n",
    "import numpy as np\n",
    "import matplotlib.pyplot as plt"
   ]
  },
  {
   "cell_type": "code",
   "execution_count": null,
   "metadata": {},
   "outputs": [],
   "source": [
    "plt.style.use(['default'])\n",
    "gravity_paper_params = {'legend.fontsize': 'x-small',\n",
    "                        'font.sans-serif': ['Times New Roman'],\n",
    "                        'legend.frameon': False,\n",
    "                        'lines.linewidth': 1.5,\n",
    "                        'axes.labelsize': 'medium',\n",
    "                        'axes.titlesize':'large',\n",
    "                        'xtick.labelsize':'small',\n",
    "                        'ytick.labelsize':'small',\n",
    "                        'figure.titlesize': 'large',\n",
    "                        'figure.dpi': 600,\n",
    "                        'savefig.dpi': 600}\n",
    "plt.rcParams.update(gravity_paper_params)"
   ]
  },
  {
   "cell_type": "code",
   "execution_count": null,
   "metadata": {},
   "outputs": [],
   "source": [
    "png_metadata = {\n",
    "'Title': '',\n",
    "'Author': 'Dariush Bahrami, Sadegh Pourianzade',\n",
    "'Software': 'Python, matplotlib',\n",
    "}"
   ]
  },
  {
   "cell_type": "code",
   "execution_count": null,
   "metadata": {},
   "outputs": [],
   "source": [
    "svg_metadata = {'Title': '',\n",
    "                'Contributor': ['Dariush Bahrami', 'Sadegh Pourianzade']}"
   ]
  },
  {
   "cell_type": "code",
   "execution_count": null,
   "metadata": {},
   "outputs": [],
   "source": [
    "figs_dir = Path('figures')"
   ]
  },
  {
   "cell_type": "markdown",
   "metadata": {},
   "source": [
    "# $\\beta$ Visualization"
   ]
  },
  {
   "cell_type": "code",
   "execution_count": null,
   "metadata": {},
   "outputs": [],
   "source": [
    "fig, axis = plt.subplots(nrows=2, ncols=1)\n",
    "fig.set_size_inches(3.5, 6)\n",
    "fig.suptitle('')\n",
    "\n",
    "steps = np.arange(1, 601)\n",
    "beta_list = [0.8, 0.9, 0.95]\n",
    "\n",
    "colors = ['tab:blue', 'tab:green', 'tab:red']\n",
    "\n",
    "for i, beta in enumerate(beta_list):\n",
    "    beta_hat = (beta*steps+1)/(steps+2)\n",
    "    averaged_data_beta = 1/(1-beta)\n",
    "    averaged_data_beta_hat = 1/(1-beta_hat)\n",
    "\n",
    "    ax = axis[0]\n",
    "    ax.axhline(y=beta, linestyle='--',linewidth=0.75, color=colors[i])\n",
    "    ax.plot(steps, beta_hat, label=r'$\\hat{\\beta}$ for $\\beta$='+ str(beta), color=colors[i])\n",
    "    ax.set_title('(a)')\n",
    "    ax.set_xlabel('Minibatch Number')\n",
    "    ax.set_ylabel(r'$\\hat{\\beta}$')\n",
    "#     ax.legend()\n",
    "\n",
    "    ax = axis[1]\n",
    "    ax.axhline(y=averaged_data_beta, linewidth=0.75, linestyle='--', color=colors[i])\n",
    "    ax.plot(steps, averaged_data_beta_hat, label=r'$\\hat{\\beta}$ for $\\beta$='+ str(beta), color=colors[i])\n",
    "    ax.set_title('(b)')\n",
    "    ax.set_xlabel('Minibatch Number')\n",
    "    ax.set_ylabel(r'Averaged Data')\n",
    "    ax.legend(bbox_to_anchor=(0.92, -0.25),ncol=3)\n",
    "    \n",
    "fig.suptitle(r'Behavior of $\\hat{\\beta}$')\n",
    "plt.tight_layout()\n",
    "\n",
    "\n",
    "# valid_name = 'beta_hat_behavior'\n",
    "# name = Path(valid_name + '.svg')\n",
    "# format_dir = Path('svg')\n",
    "# fname = Path.joinpath(figs_dir, format_dir, name)\n",
    "# svg_metadata['Title'] = 'Beta hat Behavior'\n",
    "# plt.savefig(fname, dpi=600,\n",
    "#             orientation='portrait',\n",
    "#             transparent=True,\n",
    "#             metadata=svg_metadata)\n",
    "plt.show()"
   ]
  },
  {
   "cell_type": "markdown",
   "metadata": {},
   "source": [
    "# Results Visualization"
   ]
  },
  {
   "cell_type": "code",
   "execution_count": null,
   "metadata": {},
   "outputs": [],
   "source": [
    "def parse_zip_name(zip_path):\n",
    "    name = zip_path.name\n",
    "    parts = name.split('_')\n",
    "    dataset = parts[0]\n",
    "    model = parts[1]\n",
    "    optimizer = parts[3]\n",
    "    return {'dataset': dataset,\n",
    "           'model': model,\n",
    "           'optimizer': optimizer,\n",
    "           'path': zip_path}\n",
    "\n",
    "def get_results(result_path):\n",
    "    zip_path_list = [i for i in result_path.iterdir() if i.suffix=='.zip']\n",
    "    return [parse_zip_name(i) for i in zip_path_list]\n",
    "\n",
    "def get_dataframe(result_dict: dict):\n",
    "    with ZipFile(result_dict['path']) as result_zip:\n",
    "        with result_zip.open('history.csv') as csv_file:\n",
    "            return pd.read_csv(csv_file)\n",
    "        \n",
    "def pair_results(result_list_1, result_list_2, result_list_3):\n",
    "    pairs = []\n",
    "    for i in result_list_1:\n",
    "        for j in result_list_2:\n",
    "            for k in result_list_3:\n",
    "                c1 = i['dataset']==j['dataset']==k['dataset']\n",
    "                c2 = i['model']==j['model']==k['model']\n",
    "                if c1 and c2:\n",
    "                    pairs.append((i, j, k))\n",
    "    return pairs"
   ]
  },
  {
   "cell_type": "code",
   "execution_count": null,
   "metadata": {},
   "outputs": [],
   "source": [
    "results_dir = Path('results')\n",
    "gravity_dir = Path('gravity_benchmarks')\n",
    "adam_dir = Path('adam_benchmarks')\n",
    "rmsprop_dir = Path('rmsprop_benchmarks')\n",
    "vgg16_dir = Path('vgg16')\n",
    "vgg19_dir = Path('vgg19')\n",
    "\n",
    "gravity_vgg16_results = get_results(Path.joinpath(results_dir, gravity_dir, vgg16_dir))\n",
    "gravity_vgg19_results = get_results(Path.joinpath(results_dir, gravity_dir, vgg19_dir))\n",
    "adam_vgg16_results = get_results(Path.joinpath(results_dir, adam_dir, vgg16_dir))\n",
    "adam_vgg19_results = get_results(Path.joinpath(results_dir, adam_dir, vgg19_dir))\n",
    "rmsprop_vgg16_results = get_results(Path.joinpath(results_dir, rmsprop_dir, vgg16_dir))\n",
    "rmsprop_vgg19_results = get_results(Path.joinpath(results_dir, rmsprop_dir, vgg19_dir))\n",
    "                   \n",
    "gravity_results = gravity_vgg16_results + gravity_vgg19_results\n",
    "adam_results = adam_vgg16_results + adam_vgg19_results\n",
    "rmsprop_results = rmsprop_vgg16_results + rmsprop_vgg19_results                   "
   ]
  },
  {
   "cell_type": "code",
   "execution_count": null,
   "metadata": {},
   "outputs": [],
   "source": [
    "pairs = pair_results(gravity_results, adam_results, rmsprop_results)"
   ]
  },
  {
   "cell_type": "code",
   "execution_count": null,
   "metadata": {},
   "outputs": [],
   "source": [
    "pair_dfs = [(get_dataframe(i), get_dataframe(j), get_dataframe(k)) for i, j, k in pairs]"
   ]
  },
  {
   "cell_type": "code",
   "execution_count": null,
   "metadata": {},
   "outputs": [],
   "source": [
    "correct_y_label = {'loss': 'Loss', 'accuracy': 'Accuracy',\n",
    "                   'val_loss': 'Validation Loss',\n",
    "                   'val_accuracy': 'Validation Accuracy'}\n",
    "colors = {'Gravity': 'red', 'Adam': 'blue', 'RMSprop': 'green'}\n",
    "models = {'vgg16': 'VGG16', 'vgg19': 'VGG19'}\n",
    "for index in range(len(pairs)):\n",
    "    fig, axis = plt.subplots(nrows=2, ncols=2)\n",
    "    fig.set_size_inches(7.5, 6)\n",
    "    \n",
    "    i = 0\n",
    "    indice = [(0, 0), (0, 1), (1, 0), (1, 1)]\n",
    "    titles = ['(a)', '(b)', '(c)', '(d)']\n",
    "\n",
    "    for data in ['loss', 'accuracy', 'val_loss', 'val_accuracy']:\n",
    "        ax = axis[indice[i]]\n",
    "        for df, info in zip(pair_dfs[index][::-1], pairs[index][::-1]):\n",
    "            ax.plot(df['epochs'], df[data], label=info['optimizer'], color=colors[info['optimizer']])\n",
    "            ax.set_title(titles[i])\n",
    "            ax.set_xlabel('Epochs')\n",
    "            ax.set_ylabel(correct_y_label[data])\n",
    "            ax.legend()\n",
    "        i+=1\n",
    "        \n",
    "    title = f\"Dataset: {info['dataset']} - Architecture: {models[info['model']]}\"\n",
    "    fig.suptitle(title)\n",
    "\n",
    "    plt.tight_layout()\n",
    "#     valid_name = title.replace('-', '_').replace(':', '_').replace(' ', '').replace('(', '_').replace(')', '_').lower()\n",
    "#     name = Path(valid_name + '.jpg')\n",
    "#     format_dir = Path('jpg')\n",
    "#     fname = Path.joinpath(figs_dir, format_dir, name)\n",
    "#     plt.savefig(fname, dpi=600,\n",
    "#                 orientation='landscape',\n",
    "#                 transparent=True)\n",
    "    plt.show()"
   ]
  },
  {
   "cell_type": "code",
   "execution_count": null,
   "metadata": {},
   "outputs": [],
   "source": []
  }
 ],
 "metadata": {
  "kernelspec": {
   "display_name": "Python 3",
   "language": "python",
   "name": "python3"
  },
  "language_info": {
   "codemirror_mode": {
    "name": "ipython",
    "version": 3
   },
   "file_extension": ".py",
   "mimetype": "text/x-python",
   "name": "python",
   "nbconvert_exporter": "python",
   "pygments_lexer": "ipython3",
   "version": "3.8.3"
  }
 },
 "nbformat": 4,
 "nbformat_minor": 4
}
